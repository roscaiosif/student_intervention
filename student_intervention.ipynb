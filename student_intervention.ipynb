{
 "cells": [
  {
   "cell_type": "markdown",
   "metadata": {},
   "source": [
    "# Machine Learning Engineer Nanodegree\n",
    "## Supervised Learning\n",
    "## Project: Building a Student Intervention System"
   ]
  },
  {
   "cell_type": "markdown",
   "metadata": {},
   "source": [
    "Welcome to the second project of the Machine Learning Engineer Nanodegree! In this notebook, some template code has already been provided for you, and it will be your job to implement the additional functionality necessary to successfully complete this project. Sections that begin with **'Implementation'** in the header indicate that the following block of code will require additional functionality which you must provide. Instructions will be provided for each section and the specifics of the implementation are marked in the code block with a `'TODO'` statement. Please be sure to read the instructions carefully!\n",
    "\n",
    "In addition to implementing code, there will be questions that you must answer which relate to the project and your implementation. Each section where you will answer a question is preceded by a **'Question X'** header. Carefully read each question and provide thorough answers in the following text boxes that begin with **'Answer:'**. Your project submission will be evaluated based on your answers to each of the questions and the implementation you provide.  \n",
    "\n",
    ">**Note:** Code and Markdown cells can be executed using the **Shift + Enter** keyboard shortcut. In addition, Markdown cells can be edited by typically double-clicking the cell to enter edit mode."
   ]
  },
  {
   "cell_type": "markdown",
   "metadata": {},
   "source": [
    "### Question 1 - Classification vs. Regression\n",
    "*Your goal for this project is to identify students who might need early intervention before they fail to graduate. Which type of supervised learning problem is this, classification or regression? Why?*"
   ]
  },
  {
   "cell_type": "markdown",
   "metadata": {},
   "source": [
    "**Answer: **\n",
    "The output of the model is \"need intervention\" or \"not need intervention\" is a binary variable, therefore the model should be a binary classification "
   ]
  },
  {
   "cell_type": "markdown",
   "metadata": {},
   "source": [
    "## Exploring the Data\n",
    "Run the code cell below to load necessary Python libraries and load the student data. Note that the last column from this dataset, `'passed'`, will be our target label (whether the student graduated or didn't graduate). All other columns are features about each student."
   ]
  },
  {
   "cell_type": "code",
   "execution_count": 1,
   "metadata": {
    "collapsed": false
   },
   "outputs": [
    {
     "name": "stdout",
     "output_type": "stream",
     "text": [
      "Student data read successfully!\n",
      "\n"
     ]
    }
   ],
   "source": [
    "# Import libraries\n",
    "import numpy as np\n",
    "#getPrintOptions = np.get_printoptions()\n",
    "import pandas as pd\n",
    "from time import time\n",
    "from sklearn.metrics import f1_score\n",
    "from sklearn.decomposition import PCA\n",
    "# Read student data\n",
    "student_data = pd.read_csv(\"student-data.csv\")\n",
    "print \"Student data read successfully!\\n\""
   ]
  },
  {
   "cell_type": "markdown",
   "metadata": {},
   "source": [
    "### Implementation: Data Exploration\n",
    "Let's begin by investigating the dataset to determine how many students we have information on, and learn about the graduation rate among these students. In the code cell below, you will need to compute the following:\n",
    "- The total number of students, `n_students`.\n",
    "- The total number of features for each student, `n_features`.\n",
    "- The number of those students who passed, `n_passed`.\n",
    "- The number of those students who failed, `n_failed`.\n",
    "- The graduation rate of the class, `grad_rate`, in percent (%).\n"
   ]
  },
  {
   "cell_type": "code",
   "execution_count": 2,
   "metadata": {
    "collapsed": false
   },
   "outputs": [
    {
     "name": "stdout",
     "output_type": "stream",
     "text": [
      "Total number of students: 395\n",
      "Number of features: 30\n",
      "Number of students who passed: 265\n",
      "Number of students who failed: 130\n",
      "Graduation rate of the class: 67.09%\n"
     ]
    }
   ],
   "source": [
    "# TODO: Calculate number of students\n",
    "n_students = student_data.shape[0]\n",
    "\n",
    "# TODO: Calculate number of features\n",
    "n_features = student_data.shape[1]-1\n",
    "\n",
    "# TODO: Calculate passing students\n",
    "n_passed = (student_data['passed'] == 'yes').sum()\n",
    "\n",
    "# TODO: Calculate failing students\n",
    "n_failed = n_students - n_passed\n",
    " \n",
    "# TODO: Calculate graduation rate\n",
    "grad_rate = 100.0*n_passed/n_students\n",
    "\n",
    "# Print the results\n",
    "print \"Total number of students: {}\".format(n_students)\n",
    "print \"Number of features: {}\".format(n_features)\n",
    "print \"Number of students who passed: {}\".format(n_passed)\n",
    "print \"Number of students who failed: {}\".format(n_failed)\n",
    "print \"Graduation rate of the class: {:.2f}%\".format(grad_rate)"
   ]
  },
  {
   "cell_type": "markdown",
   "metadata": {},
   "source": [
    "## Preparing the Data\n",
    "In this section, we will prepare the data for modeling, training and testing.\n",
    "\n",
    "### Identify feature and target columns\n",
    "It is often the case that the data you obtain contains non-numeric features. This can be a problem, as most machine learning algorithms expect numeric data to perform computations with.\n",
    "\n",
    "Run the code cell below to separate the student data into feature and target columns to see if any features are non-numeric."
   ]
  },
  {
   "cell_type": "code",
   "execution_count": 3,
   "metadata": {
    "collapsed": false
   },
   "outputs": [
    {
     "name": "stdout",
     "output_type": "stream",
     "text": [
      "Feature columns:\n",
      "['school', 'sex', 'age', 'address', 'famsize', 'Pstatus', 'Medu', 'Fedu', 'Mjob', 'Fjob', 'reason', 'guardian', 'traveltime', 'studytime', 'failures', 'schoolsup', 'famsup', 'paid', 'activities', 'nursery', 'higher', 'internet', 'romantic', 'famrel', 'freetime', 'goout', 'Dalc', 'Walc', 'health', 'absences']\n",
      "\n",
      "Target column: passed\n",
      "\n",
      "Feature values:\n"
     ]
    },
    {
     "data": {
      "text/html": [
       "<div>\n",
       "<table border=\"1\" class=\"dataframe\">\n",
       "  <thead>\n",
       "    <tr style=\"text-align: right;\">\n",
       "      <th></th>\n",
       "      <th>school</th>\n",
       "      <th>sex</th>\n",
       "      <th>age</th>\n",
       "      <th>address</th>\n",
       "      <th>famsize</th>\n",
       "      <th>Pstatus</th>\n",
       "      <th>Medu</th>\n",
       "      <th>Fedu</th>\n",
       "      <th>Mjob</th>\n",
       "      <th>Fjob</th>\n",
       "      <th>...</th>\n",
       "      <th>higher</th>\n",
       "      <th>internet</th>\n",
       "      <th>romantic</th>\n",
       "      <th>famrel</th>\n",
       "      <th>freetime</th>\n",
       "      <th>goout</th>\n",
       "      <th>Dalc</th>\n",
       "      <th>Walc</th>\n",
       "      <th>health</th>\n",
       "      <th>absences</th>\n",
       "    </tr>\n",
       "  </thead>\n",
       "  <tbody>\n",
       "    <tr>\n",
       "      <th>0</th>\n",
       "      <td>GP</td>\n",
       "      <td>F</td>\n",
       "      <td>18</td>\n",
       "      <td>U</td>\n",
       "      <td>GT3</td>\n",
       "      <td>A</td>\n",
       "      <td>4</td>\n",
       "      <td>4</td>\n",
       "      <td>at_home</td>\n",
       "      <td>teacher</td>\n",
       "      <td>...</td>\n",
       "      <td>yes</td>\n",
       "      <td>no</td>\n",
       "      <td>no</td>\n",
       "      <td>4</td>\n",
       "      <td>3</td>\n",
       "      <td>4</td>\n",
       "      <td>1</td>\n",
       "      <td>1</td>\n",
       "      <td>3</td>\n",
       "      <td>6</td>\n",
       "    </tr>\n",
       "    <tr>\n",
       "      <th>1</th>\n",
       "      <td>GP</td>\n",
       "      <td>F</td>\n",
       "      <td>17</td>\n",
       "      <td>U</td>\n",
       "      <td>GT3</td>\n",
       "      <td>T</td>\n",
       "      <td>1</td>\n",
       "      <td>1</td>\n",
       "      <td>at_home</td>\n",
       "      <td>other</td>\n",
       "      <td>...</td>\n",
       "      <td>yes</td>\n",
       "      <td>yes</td>\n",
       "      <td>no</td>\n",
       "      <td>5</td>\n",
       "      <td>3</td>\n",
       "      <td>3</td>\n",
       "      <td>1</td>\n",
       "      <td>1</td>\n",
       "      <td>3</td>\n",
       "      <td>4</td>\n",
       "    </tr>\n",
       "    <tr>\n",
       "      <th>2</th>\n",
       "      <td>GP</td>\n",
       "      <td>F</td>\n",
       "      <td>15</td>\n",
       "      <td>U</td>\n",
       "      <td>LE3</td>\n",
       "      <td>T</td>\n",
       "      <td>1</td>\n",
       "      <td>1</td>\n",
       "      <td>at_home</td>\n",
       "      <td>other</td>\n",
       "      <td>...</td>\n",
       "      <td>yes</td>\n",
       "      <td>yes</td>\n",
       "      <td>no</td>\n",
       "      <td>4</td>\n",
       "      <td>3</td>\n",
       "      <td>2</td>\n",
       "      <td>2</td>\n",
       "      <td>3</td>\n",
       "      <td>3</td>\n",
       "      <td>10</td>\n",
       "    </tr>\n",
       "    <tr>\n",
       "      <th>3</th>\n",
       "      <td>GP</td>\n",
       "      <td>F</td>\n",
       "      <td>15</td>\n",
       "      <td>U</td>\n",
       "      <td>GT3</td>\n",
       "      <td>T</td>\n",
       "      <td>4</td>\n",
       "      <td>2</td>\n",
       "      <td>health</td>\n",
       "      <td>services</td>\n",
       "      <td>...</td>\n",
       "      <td>yes</td>\n",
       "      <td>yes</td>\n",
       "      <td>yes</td>\n",
       "      <td>3</td>\n",
       "      <td>2</td>\n",
       "      <td>2</td>\n",
       "      <td>1</td>\n",
       "      <td>1</td>\n",
       "      <td>5</td>\n",
       "      <td>2</td>\n",
       "    </tr>\n",
       "    <tr>\n",
       "      <th>4</th>\n",
       "      <td>GP</td>\n",
       "      <td>F</td>\n",
       "      <td>16</td>\n",
       "      <td>U</td>\n",
       "      <td>GT3</td>\n",
       "      <td>T</td>\n",
       "      <td>3</td>\n",
       "      <td>3</td>\n",
       "      <td>other</td>\n",
       "      <td>other</td>\n",
       "      <td>...</td>\n",
       "      <td>yes</td>\n",
       "      <td>no</td>\n",
       "      <td>no</td>\n",
       "      <td>4</td>\n",
       "      <td>3</td>\n",
       "      <td>2</td>\n",
       "      <td>1</td>\n",
       "      <td>2</td>\n",
       "      <td>5</td>\n",
       "      <td>4</td>\n",
       "    </tr>\n",
       "  </tbody>\n",
       "</table>\n",
       "<p>5 rows × 30 columns</p>\n",
       "</div>"
      ],
      "text/plain": [
       "  school sex  age address famsize Pstatus  Medu  Fedu     Mjob      Fjob  \\\n",
       "0     GP   F   18       U     GT3       A     4     4  at_home   teacher   \n",
       "1     GP   F   17       U     GT3       T     1     1  at_home     other   \n",
       "2     GP   F   15       U     LE3       T     1     1  at_home     other   \n",
       "3     GP   F   15       U     GT3       T     4     2   health  services   \n",
       "4     GP   F   16       U     GT3       T     3     3    other     other   \n",
       "\n",
       "    ...    higher internet  romantic  famrel  freetime goout Dalc Walc health  \\\n",
       "0   ...       yes       no        no       4         3     4    1    1      3   \n",
       "1   ...       yes      yes        no       5         3     3    1    1      3   \n",
       "2   ...       yes      yes        no       4         3     2    2    3      3   \n",
       "3   ...       yes      yes       yes       3         2     2    1    1      5   \n",
       "4   ...       yes       no        no       4         3     2    1    2      5   \n",
       "\n",
       "  absences  \n",
       "0        6  \n",
       "1        4  \n",
       "2       10  \n",
       "3        2  \n",
       "4        4  \n",
       "\n",
       "[5 rows x 30 columns]"
      ]
     },
     "execution_count": 3,
     "metadata": {},
     "output_type": "execute_result"
    }
   ],
   "source": [
    "# Extract feature columns\n",
    "feature_cols = list(student_data.columns[:-1])\n",
    "\n",
    "# Extract target column 'passed'\n",
    "target_col = student_data.columns[-1] \n",
    "\n",
    "# Show the list of columns\n",
    "print \"Feature columns:\\n{}\".format(feature_cols)\n",
    "print \"\\nTarget column: {}\".format(target_col)\n",
    "\n",
    "# Separate the data into feature data and target data (X_all and y_all, respectively)\n",
    "X_all0 = student_data[feature_cols]\n",
    "y_all0 = student_data[target_col]\n",
    "\n",
    "# Show the feature information by printing the first five rows\n",
    "print \"\\nFeature values:\"\n",
    "X_all0.head()"
   ]
  },
  {
   "cell_type": "markdown",
   "metadata": {},
   "source": [
    "### Preprocess Feature Columns\n",
    "\n",
    "As you can see, there are several non-numeric columns that need to be converted! Many of them are simply `yes`/`no`, e.g. `internet`. These can be reasonably converted into `1`/`0` (binary) values.\n",
    "\n",
    "Other columns, like `Mjob` and `Fjob`, have more than two values, and are known as _categorical variables_. The recommended way to handle such a column is to create as many columns as possible values (e.g. `Fjob_teacher`, `Fjob_other`, `Fjob_services`, etc.), and assign a `1` to one of them and `0` to all others.\n",
    "\n",
    "These generated columns are sometimes called _dummy variables_, and we will use the [`pandas.get_dummies()`](http://pandas.pydata.org/pandas-docs/stable/generated/pandas.get_dummies.html?highlight=get_dummies#pandas.get_dummies) function to perform this transformation. Run the code cell below to perform the preprocessing routine discussed in this section."
   ]
  },
  {
   "cell_type": "markdown",
   "metadata": {},
   "source": [
    "**Binary features:**\n",
    "- `school` : student's school (binary: \"GP\" or \"MS\")\n",
    "- `sex` : student's sex (binary: \"F\" - female or \"M\" - male)\n",
    "- `address` : student's home address type (binary: \"U\" - urban or \"R\" - rural)\n",
    "- `famsize` : family size (binary: \"LE3\" - less or equal to 3 or \"GT3\" - greater than 3)\n",
    "- `schoolsup` : extra educational support (binary: yes or no)\n",
    "- `famsup` : family educational support (binary: yes or no)\n",
    "- `paid` : extra paid classes within the course subject (Math or Portuguese) (binary: yes or no)\n",
    "- `activities` : extra-curricular activities (binary: yes or no)\n",
    "- `nursery` : attended nursery school (binary: yes or no)\n",
    "- `higher` : wants to take higher education (binary: yes or no)\n",
    "- `internet` : Internet access at home (binary: yes or no)\n",
    "- `romantic` : with a romantic relationship (binary: yes or no)\n",
    "\n",
    "\n",
    "**Nominal/categorical features:**\n",
    "- `Pstatus` : parent's cohabitation status (binary: \"T\" - living together or \"A\" - apart)\n",
    "- `Medu` : mother's education (numeric: 0 - none,  1 - primary education (4th grade), 2 - 5th to 9th grade, 3 - secondary education or 4 - higher education)\n",
    "- `Fedu` : father's education (numeric: 0 - none,  1 - primary education (4th grade), 2 - 5th to 9th grade, 3 - secondary education or 4 - higher education)\n",
    "- `Mjob` : mother's job (nominal: \"teacher\", \"health\" care related, civil \"services\" (e.g. administrative or police), \"at_home\" or \"other\")\n",
    "- `Fjob` : father's job (nominal: \"teacher\", \"health\" care related, civil \"services\" (e.g. administrative or police), \"at_home\" or \"other\")\n",
    "- `reason` : reason to choose this school (nominal: close to \"home\", school \"reputation\", \"course\" preference or \"other\")\n",
    "- `guardian` : student's guardian (nominal: \"mother\", \"father\" or \"other\")\n",
    "- `traveltime` : home to school travel time (numeric: 1 - <15 min., 2 - 15 to 30 min., 3 - 30 min. to 1 hour, or 4 - >1 hour)\n",
    "- `studytime` : weekly study time (numeric: 1 - <2 hours, 2 - 2 to 5 hours, 3 - 5 to 10 hours, or 4 - >10 hours)\n",
    "- `failures` : number of past class failures (numeric: n if 1<=n<3, else 4)\n",
    "- `famrel` : quality of family relationships (numeric: from 1 - very bad to 5 - excellent)\n",
    "- `freetime` : free time after school (numeric: from 1 - very low to 5 - very high)\n",
    "- `goout` : going out with friends (numeric: from 1 - very low to 5 - very high)\n",
    "- `Dalc` : workday alcohol consumption (numeric: from 1 - very low to 5 - very high)\n",
    "- `Walc` : weekend alcohol consumption (numeric: from 1 - very low to 5 - very high)\n",
    "- `health` : current health status (numeric: from 1 - very bad to 5 - very good)\n",
    "\n",
    "**Continous features:**\n",
    "- `age` : student's age (numeric: from 15 to 22)\n",
    "- `absences` : number of school absences (numeric: from 0 to 93)\n",
    "\n",
    "**Binary target:**\n",
    "- `passed` : did the student pass the final exam (binary: yes or no)"
   ]
  },
  {
   "cell_type": "code",
   "execution_count": 4,
   "metadata": {
    "collapsed": false
   },
   "outputs": [],
   "source": [
    "def preprocess_features(X):\n",
    "    ''' Preprocesses the student data and converts non-numeric binary variables into\n",
    "        binary (0/1) variables. Converts categorical variables into dummy variables. '''\n",
    "    \n",
    "    # Initialize new output DataFrame\n",
    "    output = pd.DataFrame(index = X.index)\n",
    "\n",
    "    # Investigate each feature column for the data\n",
    "    for col, col_data in X.iteritems():\n",
    "        \n",
    "        # If data type is non-numeric, replace all yes/no values with 1/0\n",
    "        if col_data.dtype == object:\n",
    "            col_data = col_data.replace(['yes', 'no'], [1, 0])\n",
    "\n",
    "        # If data type is categorical, convert to dummy variables\n",
    "        if col_data.dtype == object:\n",
    "            # Example: 'school' => 'school_GP' and 'school_MS'\n",
    "            col_data = pd.get_dummies(col_data, prefix = col)  \n",
    "        \n",
    "        # Collect the revised columns\n",
    "        output = output.join(col_data)\n",
    "    \n",
    "    return output\n",
    "\n",
    "\n",
    "def preprocess_features_v2(Xdf):\n",
    "    ''' Preprocesses the student data and converts non-numeric binary variables into\n",
    "        binary (0/1) variables. Converts categorical variables into dummy variables. '''\n",
    "    \n",
    "    # Initialize new output DataFrame\n",
    "    output = pd.DataFrame()\n",
    "    \n",
    "    df_columns = Xdf.columns # all features\n",
    "    \n",
    "    #after reading \"Data\" section in the `readme.md` file the continious features are \n",
    "    df_continuos = np.array(['age','absences'])\n",
    "    df_category_cols = np.setdiff1d(df_columns,df_continuos) #all category features\n",
    "    \n",
    "    # Investigate each category feature column for the data\n",
    "    for col in df_category_cols:\n",
    "        col_set = Xdf[col].unique()\n",
    "        if len(col_set) <= 2:\n",
    "            #transform binary features in 1/0\n",
    "            output[col+'_'+col_set[0]] = Xdf[col].replace(col_set,[1,0])\n",
    "        else:\n",
    "            #transform category features in dummy variables == one hot encoding?\n",
    "            one_hot = pd.get_dummies(Xdf[col], prefix=col)\n",
    "\n",
    "            if output.empty: \n",
    "                output = one_hot # cannot join with empty dataFrame\n",
    "            else:\n",
    "                output = output.join(one_hot)\n",
    "    \n",
    "    #normalize continous features (f - f.mean)/f.std\n",
    "    for col in df_continuos:\n",
    "        output[col] = (Xdf[col]-Xdf[col].mean())/Xdf[col].std()\n",
    "        \n",
    "    return output"
   ]
  },
  {
   "cell_type": "code",
   "execution_count": 5,
   "metadata": {
    "collapsed": false
   },
   "outputs": [
    {
     "name": "stdout",
     "output_type": "stream",
     "text": [
      "Processed feature columns (84 total features):\n",
      "['Dalc_1', 'Dalc_2', 'Dalc_3', 'Dalc_4', 'Dalc_5', 'Fedu_0', 'Fedu_1', 'Fedu_2', 'Fedu_3', 'Fedu_4', 'Fjob_at_home', 'Fjob_health', 'Fjob_other', 'Fjob_services', 'Fjob_teacher', 'Medu_0', 'Medu_1', 'Medu_2', 'Medu_3', 'Medu_4', 'Mjob_at_home', 'Mjob_health', 'Mjob_other', 'Mjob_services', 'Mjob_teacher', 'Pstatus_A', 'Walc_1', 'Walc_2', 'Walc_3', 'Walc_4', 'Walc_5', 'activities_no', 'address_U', 'failures_0', 'failures_1', 'failures_2', 'failures_3', 'famrel_1', 'famrel_2', 'famrel_3', 'famrel_4', 'famrel_5', 'famsize_GT3', 'famsup_no', 'freetime_1', 'freetime_2', 'freetime_3', 'freetime_4', 'freetime_5', 'goout_1', 'goout_2', 'goout_3', 'goout_4', 'goout_5', 'guardian_father', 'guardian_mother', 'guardian_other', 'health_1', 'health_2', 'health_3', 'health_4', 'health_5', 'higher_yes', 'internet_no', 'nursery_yes', 'paid_no', 'reason_course', 'reason_home', 'reason_other', 'reason_reputation', 'romantic_no', 'school_GP', 'schoolsup_yes', 'sex_F', 'studytime_1', 'studytime_2', 'studytime_3', 'studytime_4', 'traveltime_1', 'traveltime_2', 'traveltime_3', 'traveltime_4', 'age', 'absences']\n"
     ]
    },
    {
     "data": {
      "text/html": [
       "<div>\n",
       "<table border=\"1\" class=\"dataframe\">\n",
       "  <thead>\n",
       "    <tr style=\"text-align: right;\">\n",
       "      <th></th>\n",
       "      <th>Dalc_1</th>\n",
       "      <th>Dalc_2</th>\n",
       "      <th>Dalc_3</th>\n",
       "      <th>Dalc_4</th>\n",
       "      <th>Dalc_5</th>\n",
       "      <th>Fedu_0</th>\n",
       "      <th>Fedu_1</th>\n",
       "      <th>Fedu_2</th>\n",
       "      <th>Fedu_3</th>\n",
       "      <th>Fedu_4</th>\n",
       "      <th>...</th>\n",
       "      <th>studytime_1</th>\n",
       "      <th>studytime_2</th>\n",
       "      <th>studytime_3</th>\n",
       "      <th>studytime_4</th>\n",
       "      <th>traveltime_1</th>\n",
       "      <th>traveltime_2</th>\n",
       "      <th>traveltime_3</th>\n",
       "      <th>traveltime_4</th>\n",
       "      <th>age</th>\n",
       "      <th>absences</th>\n",
       "    </tr>\n",
       "  </thead>\n",
       "  <tbody>\n",
       "    <tr>\n",
       "      <th>0</th>\n",
       "      <td>1</td>\n",
       "      <td>0</td>\n",
       "      <td>0</td>\n",
       "      <td>0</td>\n",
       "      <td>0</td>\n",
       "      <td>0</td>\n",
       "      <td>0</td>\n",
       "      <td>0</td>\n",
       "      <td>0</td>\n",
       "      <td>1</td>\n",
       "      <td>...</td>\n",
       "      <td>0</td>\n",
       "      <td>1</td>\n",
       "      <td>0</td>\n",
       "      <td>0</td>\n",
       "      <td>0</td>\n",
       "      <td>1</td>\n",
       "      <td>0</td>\n",
       "      <td>0</td>\n",
       "      <td>1.021751</td>\n",
       "      <td>0.036378</td>\n",
       "    </tr>\n",
       "    <tr>\n",
       "      <th>1</th>\n",
       "      <td>1</td>\n",
       "      <td>0</td>\n",
       "      <td>0</td>\n",
       "      <td>0</td>\n",
       "      <td>0</td>\n",
       "      <td>0</td>\n",
       "      <td>1</td>\n",
       "      <td>0</td>\n",
       "      <td>0</td>\n",
       "      <td>0</td>\n",
       "      <td>...</td>\n",
       "      <td>0</td>\n",
       "      <td>1</td>\n",
       "      <td>0</td>\n",
       "      <td>0</td>\n",
       "      <td>1</td>\n",
       "      <td>0</td>\n",
       "      <td>0</td>\n",
       "      <td>0</td>\n",
       "      <td>0.238078</td>\n",
       "      <td>-0.213525</td>\n",
       "    </tr>\n",
       "    <tr>\n",
       "      <th>2</th>\n",
       "      <td>0</td>\n",
       "      <td>1</td>\n",
       "      <td>0</td>\n",
       "      <td>0</td>\n",
       "      <td>0</td>\n",
       "      <td>0</td>\n",
       "      <td>1</td>\n",
       "      <td>0</td>\n",
       "      <td>0</td>\n",
       "      <td>0</td>\n",
       "      <td>...</td>\n",
       "      <td>0</td>\n",
       "      <td>1</td>\n",
       "      <td>0</td>\n",
       "      <td>0</td>\n",
       "      <td>1</td>\n",
       "      <td>0</td>\n",
       "      <td>0</td>\n",
       "      <td>0</td>\n",
       "      <td>-1.329268</td>\n",
       "      <td>0.536185</td>\n",
       "    </tr>\n",
       "    <tr>\n",
       "      <th>3</th>\n",
       "      <td>1</td>\n",
       "      <td>0</td>\n",
       "      <td>0</td>\n",
       "      <td>0</td>\n",
       "      <td>0</td>\n",
       "      <td>0</td>\n",
       "      <td>0</td>\n",
       "      <td>1</td>\n",
       "      <td>0</td>\n",
       "      <td>0</td>\n",
       "      <td>...</td>\n",
       "      <td>0</td>\n",
       "      <td>0</td>\n",
       "      <td>1</td>\n",
       "      <td>0</td>\n",
       "      <td>1</td>\n",
       "      <td>0</td>\n",
       "      <td>0</td>\n",
       "      <td>0</td>\n",
       "      <td>-1.329268</td>\n",
       "      <td>-0.463428</td>\n",
       "    </tr>\n",
       "    <tr>\n",
       "      <th>4</th>\n",
       "      <td>1</td>\n",
       "      <td>0</td>\n",
       "      <td>0</td>\n",
       "      <td>0</td>\n",
       "      <td>0</td>\n",
       "      <td>0</td>\n",
       "      <td>0</td>\n",
       "      <td>0</td>\n",
       "      <td>1</td>\n",
       "      <td>0</td>\n",
       "      <td>...</td>\n",
       "      <td>0</td>\n",
       "      <td>1</td>\n",
       "      <td>0</td>\n",
       "      <td>0</td>\n",
       "      <td>1</td>\n",
       "      <td>0</td>\n",
       "      <td>0</td>\n",
       "      <td>0</td>\n",
       "      <td>-0.545595</td>\n",
       "      <td>-0.213525</td>\n",
       "    </tr>\n",
       "  </tbody>\n",
       "</table>\n",
       "<p>5 rows × 84 columns</p>\n",
       "</div>"
      ],
      "text/plain": [
       "   Dalc_1  Dalc_2  Dalc_3  Dalc_4  Dalc_5  Fedu_0  Fedu_1  Fedu_2  Fedu_3  \\\n",
       "0       1       0       0       0       0       0       0       0       0   \n",
       "1       1       0       0       0       0       0       1       0       0   \n",
       "2       0       1       0       0       0       0       1       0       0   \n",
       "3       1       0       0       0       0       0       0       1       0   \n",
       "4       1       0       0       0       0       0       0       0       1   \n",
       "\n",
       "   Fedu_4    ...     studytime_1  studytime_2  studytime_3  studytime_4  \\\n",
       "0       1    ...               0            1            0            0   \n",
       "1       0    ...               0            1            0            0   \n",
       "2       0    ...               0            1            0            0   \n",
       "3       0    ...               0            0            1            0   \n",
       "4       0    ...               0            1            0            0   \n",
       "\n",
       "   traveltime_1  traveltime_2  traveltime_3  traveltime_4       age  absences  \n",
       "0             0             1             0             0  1.021751  0.036378  \n",
       "1             1             0             0             0  0.238078 -0.213525  \n",
       "2             1             0             0             0 -1.329268  0.536185  \n",
       "3             1             0             0             0 -1.329268 -0.463428  \n",
       "4             1             0             0             0 -0.545595 -0.213525  \n",
       "\n",
       "[5 rows x 84 columns]"
      ]
     },
     "execution_count": 5,
     "metadata": {},
     "output_type": "execute_result"
    }
   ],
   "source": [
    "X_all = preprocess_features_v2(X_all0)\n",
    "print \"Processed feature columns ({} total features):\\n{}\".format(len(X_all.columns), list(X_all.columns))\n",
    "X_all.head()"
   ]
  },
  {
   "cell_type": "code",
   "execution_count": 6,
   "metadata": {
    "collapsed": false
   },
   "outputs": [],
   "source": [
    "y_all = y_all0.replace(['yes', 'no'], [1, 0])"
   ]
  },
  {
   "cell_type": "markdown",
   "metadata": {},
   "source": [
    "### Check for correlated features ...."
   ]
  },
  {
   "cell_type": "code",
   "execution_count": 7,
   "metadata": {
    "collapsed": false
   },
   "outputs": [
    {
     "name": "stdout",
     "output_type": "stream",
     "text": [
      "[[ 0  1]\n",
      " [ 0  2]\n",
      " [ 0  3]\n",
      " [ 0  4]\n",
      " [ 0 26]\n",
      " [ 0 29]\n",
      " [ 0 30]\n",
      " [ 0 73]\n",
      " [ 1  0]\n",
      " [ 1 26]\n",
      " [ 1 28]\n",
      " [ 1 29]\n",
      " [ 2  0]\n",
      " [ 2 26]\n",
      " [ 2 29]\n",
      " [ 3  0]\n",
      " [ 3 30]\n",
      " [ 4  0]\n",
      " [ 4 30]\n",
      " [ 4 53]]\n"
     ]
    },
    {
     "data": {
      "text/plain": [
       "array([-0.73728721, -0.40425421, -0.23254589, -0.23254589,  0.5051952 ,\n",
       "       -0.33956159, -0.33465228,  0.23940931, -0.73728721, -0.36756246,\n",
       "        0.22181395,  0.23708982, -0.40425421, -0.20881758,  0.23270137,\n",
       "       -0.23254589,  0.22226502, -0.23254589,  0.55281729,  0.23855291])"
      ]
     },
     "execution_count": 7,
     "metadata": {},
     "output_type": "execute_result"
    }
   ],
   "source": [
    "#there are quite few correlated features\n",
    "cov = X_all.corr().as_matrix()\n",
    "\n",
    "rlim = [-0.2, 0.2] # limits for the pearson r\n",
    "\n",
    "covrlim = np.transpose(np.where(((cov<=rlim[0]) | (cov>=rlim[1])) & (cov !=1.0)))\n",
    "print covrlim[:20]\n",
    "covmval = cov[covrlim[:,0],covrlim[:,1]]\n",
    "covmval[:20]"
   ]
  },
  {
   "cell_type": "code",
   "execution_count": 8,
   "metadata": {
    "collapsed": false
   },
   "outputs": [],
   "source": [
    "# PCA to reduce the number of features - eliminates correlated features\n",
    "pca = PCA()\n",
    "X_pca = pca.fit_transform(X_all)\n",
    "# take the first k of PC\n",
    "k = 10\n",
    "X_all_pca = X_pca[:,:k]"
   ]
  },
  {
   "cell_type": "markdown",
   "metadata": {},
   "source": [
    "### Implementation: Training and Testing Data Split\n",
    "So far, we have converted all _categorical_ features into numeric values. For the next step, we split the data (both features and corresponding labels) into training and test sets. In the following code cell below, you will need to implement the following:\n",
    "- Randomly shuffle and split the data (`X_all`, `y_all`) into training and testing subsets.\n",
    "  - Use 300 training points (approximately 75%) and 95 testing points (approximately 25%).\n",
    "  - Set a `random_state` for the function(s) you use, if provided.\n",
    "  - Store the results in `X_train`, `X_test`, `y_train`, and `y_test`."
   ]
  },
  {
   "cell_type": "code",
   "execution_count": 9,
   "metadata": {
    "collapsed": false
   },
   "outputs": [
    {
     "name": "stdout",
     "output_type": "stream",
     "text": [
      "Training set has 300 samples.\n",
      "Testing set has 95 samples.\n",
      "PCA Training set has 300 samples.\n",
      "PCA Testing set has 95 samples.\n"
     ]
    }
   ],
   "source": [
    "# TODO: Import any additional functionality you may need here\n",
    "from sklearn.utils import shuffle\n",
    "\n",
    "# TODO: Set the number of training points\n",
    "num_train = 300\n",
    "\n",
    "# Set the number of testing points\n",
    "num_test = X_all.shape[0] - num_train\n",
    "\n",
    "# TODO: Shuffle and split the dataset into the number of training and testing points above\n",
    "RANDOM_STATE = 63\n",
    "X_all, y_all = shuffle(X_all, y_all, random_state = RANDOM_STATE)\n",
    "X_all_pca, y_all = shuffle(X_all_pca, y_all, random_state = RANDOM_STATE)\n",
    "\n",
    "X_train = X_all[:num_train]\n",
    "X_test = X_all[num_train:]\n",
    "\n",
    "X_pca_train = X_all_pca[:num_train]\n",
    "X_pca_test = X_all_pca[num_train:]\n",
    "\n",
    "y_train = y_all[:num_train]\n",
    "y_test = y_all[num_train:]\n",
    "\n",
    "# Show the results of the split\n",
    "print \"Training set has {} samples.\".format(X_train.shape[0])\n",
    "print \"Testing set has {} samples.\".format(X_test.shape[0])\n",
    "print \"PCA Training set has {} samples.\".format(X_pca_train.shape[0])\n",
    "print \"PCA Testing set has {} samples.\".format(X_pca_test.shape[0])"
   ]
  },
  {
   "cell_type": "markdown",
   "metadata": {},
   "source": [
    "## Training and Evaluating Models\n",
    "In this section, you will choose 3 supervised learning models that are appropriate for this problem and available in `scikit-learn`. You will first discuss the reasoning behind choosing these three models by considering what you know about the data and each model's strengths and weaknesses. You will then fit the model to varying sizes of training data (100 data points, 200 data points, and 300 data points) and measure the F<sub>1</sub> score. You will need to produce three tables (one for each model) that shows the training set size, training time, prediction time, F<sub>1</sub> score on the training set, and F<sub>1</sub> score on the testing set.\n",
    "\n",
    "**The following supervised learning models are currently available in** [`scikit-learn`](http://scikit-learn.org/stable/supervised_learning.html) **that you may choose from:**\n",
    "- Gaussian Naive Bayes (GaussianNB)\n",
    "- Decision Trees\n",
    "- Ensemble Methods (Bagging, AdaBoost, Random Forest, Gradient Boosting)\n",
    "- K-Nearest Neighbors (KNeighbors)\n",
    "- Stochastic Gradient Descent (SGDC)\n",
    "- Support Vector Machines (SVM)\n",
    "- Logistic Regression"
   ]
  },
  {
   "cell_type": "markdown",
   "metadata": {},
   "source": [
    "### Question 2 - Model Application\n",
    "*List three supervised learning models that are appropriate for this problem. For each model chosen*\n",
    "- Describe one real-world application in industry where the model can be applied. *(You may need to do a small bit of research for this — give references!)* \n",
    "- What are the strengths of the model; when does it perform well? \n",
    "- What are the weaknesses of the model; when does it perform poorly?\n",
    "- What makes this model a good candidate for the problem, given what you know about the data?"
   ]
  },
  {
   "cell_type": "markdown",
   "metadata": {},
   "source": [
    "**Answer: **\n",
    "\n",
    "### 1. Support Vector Machines\n",
    "\n",
    "**- Applications **of SVM for oil and gas exploration seems to be quite effective compared to other data mining algorithms. [refrence](https://www.researchgate.net/publication/243190076 )\n",
    "    \n",
    "**- Strength **\n",
    "  - prediction accuracy is generally high \n",
    "  - robust  works when training examples contain errors\n",
    "  - fast evaluation of the learned target function\n",
    "\n",
    "**- Weaknesses ** (https://en.wikipedia.org/wiki/Support_vector_machine)\n",
    "  - Requires full labeling of input data\n",
    "  - Uncalibrated class membership probabilities\n",
    "  - The SVM is only directly applicable for two-class tasks. Therefore, algorithms that reduce the multi-class task to several binary problems have to be applied; see the multi-class SVM section.\n",
    "  - Parameters of a solved model are difficult to interpret.\n",
    "\n",
    "**-SVM** is a good candidate as our problem is binary classification with less than 100k data points\n",
    "\n",
    "### 2. Nearest Neighbors classifier\n",
    "\n",
    "**- Application ** of k-NN search is the [Recommender Systems](https://en.wikipedia.org/wiki/Recommender_system) . If you know a user likes a particular item, then you can recommend similar items for them. To find similar items, you compare the set of users who like each item—if a similar set of users like two different items, then the items themselves are probably similar!\n",
    "\n",
    "**-Strength **\n",
    "  - The cost of the learning process is zero\n",
    "  - No assumptions about the characteristics of the concepts to learn have to be done\n",
    "  - Complex concepts can be learned by local approximation using simple procedure\n",
    " \n",
    "**-Weaknesses **\n",
    "  - The model can not be interpreted (there is no description of the learned concepts)\n",
    "  - It is computationally expensive to find the k nearest neighbours when the dataset is very large\n",
    "  - Performance depends on the number of dimensions that we have\n",
    "\n",
    "**- kNN ** especially with the kernel trick can classify our data \n",
    "\n",
    "\n",
    "### 3. Bagging ensemble classifier\n",
    "\n",
    "**- Application ** of bagging ensemble classifier to improve the performance of network intrusion detection systems. [reference](http://link.springer.com/chapter/10.1007/978-3-642-31537-4_46)\n",
    "\n",
    "**-Strength **\n",
    "  - combining models (weak learners) improves model accuracy on average as the number of models in the combination increased.\n",
    "  -  more resilient to noise \n",
    "  -  is very useful for large and high-dimensional data\n",
    "\n",
    "**-Weaknesses **\n",
    "  - difficult to interpret (a linear combination of decision trees is much harder to interpret than a single tree)\n",
    "  - using Bagging with a biased model is not going to always work\n",
    "  \n",
    "\n",
    "**- Bagging ** classifier combined with kNN achieved a good prediction for our dataset\n",
    "\n"
   ]
  },
  {
   "cell_type": "markdown",
   "metadata": {},
   "source": [
    "### Setup\n",
    "Run the code cell below to initialize three helper functions which you can use for training and testing the three supervised learning models you've chosen above. The functions are as follows:\n",
    "- `train_classifier` - takes as input a classifier and training data and fits the classifier to the data.\n",
    "- `predict_labels` - takes as input a fit classifier, features, and a target labeling and makes predictions using the F<sub>1</sub> score.\n",
    "- `train_predict` - takes as input a classifier, and the training and testing data, and performs `train_clasifier` and `predict_labels`.\n",
    " - This function will report the F<sub>1</sub> score for both the training and testing data separately."
   ]
  },
  {
   "cell_type": "code",
   "execution_count": 10,
   "metadata": {
    "collapsed": false
   },
   "outputs": [],
   "source": [
    "def train_classifier(clf, X_train, y_train):\n",
    "    ''' Fits a classifier to the training data. '''\n",
    "    \n",
    "    # Start the clock, train the classifier, then stop the clock\n",
    "    start = time()\n",
    "    clf.fit(X_train, y_train)\n",
    "    end = time()\n",
    "    # Print the results\n",
    "    #print \"Trained model in {:.4f} seconds\".format(end - start)\n",
    "    return end-start\n",
    "\n",
    "    \n",
    "def predict_labels(clf, features, target):\n",
    "    ''' Makes predictions using a fit classifier based on F1 score. '''\n",
    "    \n",
    "    # Start the clock, make predictions, then stop the clock\n",
    "    start = time()\n",
    "    y_pred = clf.predict(features)\n",
    "    end = time()\n",
    "    \n",
    "    # Print and return results\n",
    "    #print \"Made predictions in {:.4f} seconds.\".format(end - start)\n",
    "    return f1_score(target.values, y_pred, pos_label=1), end-start\n",
    "\n",
    "\n",
    "def train_predict(clf, X_train, y_train, X_test, y_test):\n",
    "    ''' Train and predict using a classifer based on F1 score. '''\n",
    "    \n",
    "    # Indicate the classifier and the training set size\n",
    "    print \"Training a {} using a training set size of {}. . .\".format(clf.__class__.__name__, len(X_train))\n",
    "    \n",
    "    # Train the classifier\n",
    "    train_classifier(clf, X_train, y_train)\n",
    "    \n",
    "    # Print the results of prediction for both training and testing\n",
    "    print \"F1 score for training set: {:.4f}.\".format(predict_labels(clf, X_train, y_train))\n",
    "    print \"F1 score for test set: {:.4f}.\".format(predict_labels(clf, X_test, y_test))"
   ]
  },
  {
   "cell_type": "markdown",
   "metadata": {},
   "source": [
    "### Implementation: Model Performance Metrics\n",
    "With the predefined functions above, you will now import the three supervised learning models of your choice and run the `train_predict` function for each one. Remember that you will need to train and predict on each classifier for three different training set sizes: 100, 200, and 300. Hence, you should expect to have 9 different outputs below — 3 for each model using the varying training set sizes. In the following code cell, you will need to implement the following:\n",
    "- Import the three supervised learning models you've discussed in the previous section.\n",
    "- Initialize the three models and store them in `clf_A`, `clf_B`, and `clf_C`.\n",
    " - Use a `random_state` for each model you use, if provided.\n",
    " - **Note:** Use the default settings for each model — you will tune one specific model in a later section.\n",
    "- Create the different training set sizes to be used to train each model.\n",
    " - *Do not reshuffle and resplit the data! The new training points should be drawn from `X_train` and `y_train`.*\n",
    "- Fit each model with each training set size and make predictions on the test set (9 in total).  \n",
    "**Note:** Three tables are provided after the following code cell which can be used to store your results."
   ]
  },
  {
   "cell_type": "code",
   "execution_count": 11,
   "metadata": {
    "collapsed": true
   },
   "outputs": [],
   "source": [
    "# Naive Bayes default settings - KIND of Linear classifier\n",
    "from sklearn.naive_bayes import BernoulliNB, MultinomialNB, GaussianNB\n",
    "\n",
    "# K -neighbors classifier\n",
    "from sklearn.neighbors import KNeighborsClassifier\n",
    "\n",
    "#Decision Trees\n",
    "from sklearn.tree import DecisionTreeClassifier\n",
    "\n",
    "#Ensemble Methods (Bagging, AdaBoost, Random Forest, Gradient Boosting)\n",
    "\n",
    "##Bagging##\n",
    "from sklearn.ensemble import BaggingClassifier\n",
    "##AdaBoost##\n",
    "from sklearn.ensemble import AdaBoostClassifier\n",
    "##Random Forest##\n",
    "from sklearn.ensemble import RandomForestClassifier\n",
    "\n",
    "##Gradient Boosting##\n",
    "from sklearn.ensemble import GradientBoostingClassifier\n",
    "\n",
    "#Stochastic Gradient Descent (SGDC)\n",
    "from sklearn.linear_model import SGDClassifier\n",
    "\n",
    "#Support Vector Machines (SVM)\n",
    "from sklearn.svm import SVC\n",
    "\n",
    "#Logistic Regression\n",
    "from sklearn.linear_model import LogisticRegression"
   ]
  },
  {
   "cell_type": "code",
   "execution_count": 12,
   "metadata": {
    "collapsed": true
   },
   "outputs": [],
   "source": [
    "def train_predict_all(clfs, X_train, y_train, X_test, y_test):\n",
    "    ''' Train and predict using a classifer based on F1 score. '''\n",
    "    df = pd.DataFrame(columns=['Classifier','f1-test','f1-train','train-time','predict-train-time','predict-test-time'])\n",
    "    i = 0\n",
    "    for item in clfs:\n",
    "        p = item['param'] #the parms for the classifier\n",
    "        c = item['clf'](**p) # the current classifier\n",
    "        c_name = c.__class__.__name__ #the classifier name\n",
    "        train_time = train_classifier(c, X_train, y_train) \n",
    "        f1_train, t_predict_train = predict_labels(c, X_train, y_train)\n",
    "        f1_test, t_predict_test = predict_labels(c, X_test, y_test)\n",
    "\n",
    "        df.loc[i] =[c_name, f1_test,f1_train,train_time,t_predict_train,t_predict_test]\n",
    "        #rint c_name, f1_test,f1_train,train_time,t_predict_train,t_predict_test\n",
    "        i +=1\n",
    "        \n",
    "    #sort classifiers according to the f1-test score\n",
    "    dfs = df.sort_values(by=['f1-test'], ascending=False)\n",
    "    dfss = dfs.reset_index().drop('index',axis=1)\n",
    "    return dfss"
   ]
  },
  {
   "cell_type": "markdown",
   "metadata": {},
   "source": [
    "### For comparision I used the following clasifiers with their deafault parameters"
   ]
  },
  {
   "cell_type": "code",
   "execution_count": 13,
   "metadata": {
    "collapsed": false
   },
   "outputs": [],
   "source": [
    "classifiers = [\n",
    "    {\n",
    "        'clf':BernoulliNB,\n",
    "        'param':{}\n",
    "    },{\n",
    "        'clf':GaussianNB,\n",
    "        'param':{}\n",
    "    },{\n",
    "        'clf':KNeighborsClassifier,\n",
    "        'param':{}\n",
    "    },{\n",
    "        'clf':DecisionTreeClassifier,\n",
    "        'param':{'random_state':RANDOM_STATE}\n",
    "    },{\n",
    "        'clf':BaggingClassifier,\n",
    "        'param':{'base_estimator':KNeighborsClassifier(),'max_samples':0.5, 'max_features':0.5, 'random_state':RANDOM_STATE}\n",
    "    },{\n",
    "        'clf':AdaBoostClassifier,\n",
    "        'param':{'random_state':RANDOM_STATE}\n",
    "    },{\n",
    "        'clf':RandomForestClassifier,\n",
    "        'param':{'random_state':RANDOM_STATE}\n",
    "    },{\n",
    "        'clf':GradientBoostingClassifier,\n",
    "        'param':{'random_state':RANDOM_STATE}\n",
    "    },{\n",
    "        'clf':SGDClassifier,\n",
    "        'param':{'random_state':RANDOM_STATE}\n",
    "    },{\n",
    "        'clf':SVC,\n",
    "        'param':{'random_state':RANDOM_STATE}\n",
    "    },{\n",
    "        'clf':LogisticRegression,\n",
    "        'param':{'random_state':RANDOM_STATE}\n",
    "    }\n",
    "] "
   ]
  },
  {
   "cell_type": "markdown",
   "metadata": {},
   "source": [
    "### Results considering all features"
   ]
  },
  {
   "cell_type": "code",
   "execution_count": 14,
   "metadata": {
    "collapsed": false
   },
   "outputs": [
    {
     "data": {
      "text/html": [
       "<div>\n",
       "<table border=\"1\" class=\"dataframe\">\n",
       "  <thead>\n",
       "    <tr style=\"text-align: right;\">\n",
       "      <th></th>\n",
       "      <th>Classifier</th>\n",
       "      <th>f1-test</th>\n",
       "      <th>f1-train</th>\n",
       "      <th>train-time</th>\n",
       "      <th>predict-train-time</th>\n",
       "      <th>predict-test-time</th>\n",
       "    </tr>\n",
       "  </thead>\n",
       "  <tbody>\n",
       "    <tr>\n",
       "      <th>0</th>\n",
       "      <td>SVC</td>\n",
       "      <td>0.782051</td>\n",
       "      <td>0.809524</td>\n",
       "      <td>0.006988</td>\n",
       "      <td>0.004842</td>\n",
       "      <td>0.001894</td>\n",
       "    </tr>\n",
       "    <tr>\n",
       "      <th>1</th>\n",
       "      <td>BaggingClassifier</td>\n",
       "      <td>0.760000</td>\n",
       "      <td>0.821355</td>\n",
       "      <td>0.013413</td>\n",
       "      <td>0.027944</td>\n",
       "      <td>0.012874</td>\n",
       "    </tr>\n",
       "    <tr>\n",
       "      <th>2</th>\n",
       "      <td>KNeighborsClassifier</td>\n",
       "      <td>0.741259</td>\n",
       "      <td>0.821429</td>\n",
       "      <td>0.000489</td>\n",
       "      <td>0.009511</td>\n",
       "      <td>0.003344</td>\n",
       "    </tr>\n",
       "    <tr>\n",
       "      <th>3</th>\n",
       "      <td>GradientBoostingClassifier</td>\n",
       "      <td>0.704225</td>\n",
       "      <td>0.983133</td>\n",
       "      <td>0.067552</td>\n",
       "      <td>0.000564</td>\n",
       "      <td>0.000242</td>\n",
       "    </tr>\n",
       "    <tr>\n",
       "      <th>4</th>\n",
       "      <td>AdaBoostClassifier</td>\n",
       "      <td>0.671533</td>\n",
       "      <td>0.853828</td>\n",
       "      <td>0.068456</td>\n",
       "      <td>0.003958</td>\n",
       "      <td>0.002917</td>\n",
       "    </tr>\n",
       "    <tr>\n",
       "      <th>5</th>\n",
       "      <td>BernoulliNB</td>\n",
       "      <td>0.656489</td>\n",
       "      <td>0.786070</td>\n",
       "      <td>0.001579</td>\n",
       "      <td>0.000705</td>\n",
       "      <td>0.000195</td>\n",
       "    </tr>\n",
       "    <tr>\n",
       "      <th>6</th>\n",
       "      <td>LogisticRegression</td>\n",
       "      <td>0.647059</td>\n",
       "      <td>0.835616</td>\n",
       "      <td>0.001648</td>\n",
       "      <td>0.000129</td>\n",
       "      <td>0.000094</td>\n",
       "    </tr>\n",
       "    <tr>\n",
       "      <th>7</th>\n",
       "      <td>DecisionTreeClassifier</td>\n",
       "      <td>0.639344</td>\n",
       "      <td>1.000000</td>\n",
       "      <td>0.001701</td>\n",
       "      <td>0.000141</td>\n",
       "      <td>0.000107</td>\n",
       "    </tr>\n",
       "    <tr>\n",
       "      <th>8</th>\n",
       "      <td>RandomForestClassifier</td>\n",
       "      <td>0.635659</td>\n",
       "      <td>0.990148</td>\n",
       "      <td>0.017149</td>\n",
       "      <td>0.003847</td>\n",
       "      <td>0.004029</td>\n",
       "    </tr>\n",
       "    <tr>\n",
       "      <th>9</th>\n",
       "      <td>SGDClassifier</td>\n",
       "      <td>0.578512</td>\n",
       "      <td>0.712329</td>\n",
       "      <td>0.000944</td>\n",
       "      <td>0.001472</td>\n",
       "      <td>0.000103</td>\n",
       "    </tr>\n",
       "    <tr>\n",
       "      <th>10</th>\n",
       "      <td>GaussianNB</td>\n",
       "      <td>0.259740</td>\n",
       "      <td>0.261603</td>\n",
       "      <td>0.000468</td>\n",
       "      <td>0.000349</td>\n",
       "      <td>0.000183</td>\n",
       "    </tr>\n",
       "  </tbody>\n",
       "</table>\n",
       "</div>"
      ],
      "text/plain": [
       "                    Classifier   f1-test  f1-train  train-time  \\\n",
       "0                          SVC  0.782051  0.809524    0.006988   \n",
       "1            BaggingClassifier  0.760000  0.821355    0.013413   \n",
       "2         KNeighborsClassifier  0.741259  0.821429    0.000489   \n",
       "3   GradientBoostingClassifier  0.704225  0.983133    0.067552   \n",
       "4           AdaBoostClassifier  0.671533  0.853828    0.068456   \n",
       "5                  BernoulliNB  0.656489  0.786070    0.001579   \n",
       "6           LogisticRegression  0.647059  0.835616    0.001648   \n",
       "7       DecisionTreeClassifier  0.639344  1.000000    0.001701   \n",
       "8       RandomForestClassifier  0.635659  0.990148    0.017149   \n",
       "9                SGDClassifier  0.578512  0.712329    0.000944   \n",
       "10                  GaussianNB  0.259740  0.261603    0.000468   \n",
       "\n",
       "    predict-train-time  predict-test-time  \n",
       "0             0.004842           0.001894  \n",
       "1             0.027944           0.012874  \n",
       "2             0.009511           0.003344  \n",
       "3             0.000564           0.000242  \n",
       "4             0.003958           0.002917  \n",
       "5             0.000705           0.000195  \n",
       "6             0.000129           0.000094  \n",
       "7             0.000141           0.000107  \n",
       "8             0.003847           0.004029  \n",
       "9             0.001472           0.000103  \n",
       "10            0.000349           0.000183  "
      ]
     },
     "execution_count": 14,
     "metadata": {},
     "output_type": "execute_result"
    }
   ],
   "source": [
    "df = train_predict_all(classifiers, X_train, y_train, X_test, y_test)\n",
    "df"
   ]
  },
  {
   "cell_type": "markdown",
   "metadata": {},
   "source": [
    "### Results considering the first 10 PCA features"
   ]
  },
  {
   "cell_type": "code",
   "execution_count": 15,
   "metadata": {
    "collapsed": false
   },
   "outputs": [
    {
     "data": {
      "text/html": [
       "<div>\n",
       "<table border=\"1\" class=\"dataframe\">\n",
       "  <thead>\n",
       "    <tr style=\"text-align: right;\">\n",
       "      <th></th>\n",
       "      <th>Classifier</th>\n",
       "      <th>f1-test</th>\n",
       "      <th>f1-train</th>\n",
       "      <th>train-time</th>\n",
       "      <th>predict-train-time</th>\n",
       "      <th>predict-test-time</th>\n",
       "    </tr>\n",
       "  </thead>\n",
       "  <tbody>\n",
       "    <tr>\n",
       "      <th>0</th>\n",
       "      <td>BaggingClassifier</td>\n",
       "      <td>0.784314</td>\n",
       "      <td>0.817814</td>\n",
       "      <td>0.012186</td>\n",
       "      <td>0.010437</td>\n",
       "      <td>0.008026</td>\n",
       "    </tr>\n",
       "    <tr>\n",
       "      <th>1</th>\n",
       "      <td>LogisticRegression</td>\n",
       "      <td>0.784314</td>\n",
       "      <td>0.804928</td>\n",
       "      <td>0.000407</td>\n",
       "      <td>0.000042</td>\n",
       "      <td>0.000030</td>\n",
       "    </tr>\n",
       "    <tr>\n",
       "      <th>2</th>\n",
       "      <td>SVC</td>\n",
       "      <td>0.782051</td>\n",
       "      <td>0.809524</td>\n",
       "      <td>0.002766</td>\n",
       "      <td>0.001494</td>\n",
       "      <td>0.000910</td>\n",
       "    </tr>\n",
       "    <tr>\n",
       "      <th>3</th>\n",
       "      <td>BernoulliNB</td>\n",
       "      <td>0.776316</td>\n",
       "      <td>0.807377</td>\n",
       "      <td>0.000525</td>\n",
       "      <td>0.000100</td>\n",
       "      <td>0.000081</td>\n",
       "    </tr>\n",
       "    <tr>\n",
       "      <th>4</th>\n",
       "      <td>GaussianNB</td>\n",
       "      <td>0.743243</td>\n",
       "      <td>0.792208</td>\n",
       "      <td>0.000411</td>\n",
       "      <td>0.000113</td>\n",
       "      <td>0.000082</td>\n",
       "    </tr>\n",
       "    <tr>\n",
       "      <th>5</th>\n",
       "      <td>DecisionTreeClassifier</td>\n",
       "      <td>0.737705</td>\n",
       "      <td>1.000000</td>\n",
       "      <td>0.001360</td>\n",
       "      <td>0.000060</td>\n",
       "      <td>0.000039</td>\n",
       "    </tr>\n",
       "    <tr>\n",
       "      <th>6</th>\n",
       "      <td>KNeighborsClassifier</td>\n",
       "      <td>0.736111</td>\n",
       "      <td>0.824834</td>\n",
       "      <td>0.000244</td>\n",
       "      <td>0.009475</td>\n",
       "      <td>0.000995</td>\n",
       "    </tr>\n",
       "    <tr>\n",
       "      <th>7</th>\n",
       "      <td>AdaBoostClassifier</td>\n",
       "      <td>0.735294</td>\n",
       "      <td>0.886311</td>\n",
       "      <td>0.071821</td>\n",
       "      <td>0.003833</td>\n",
       "      <td>0.002790</td>\n",
       "    </tr>\n",
       "    <tr>\n",
       "      <th>8</th>\n",
       "      <td>GradientBoostingClassifier</td>\n",
       "      <td>0.731034</td>\n",
       "      <td>0.973747</td>\n",
       "      <td>0.035886</td>\n",
       "      <td>0.000339</td>\n",
       "      <td>0.000154</td>\n",
       "    </tr>\n",
       "    <tr>\n",
       "      <th>9</th>\n",
       "      <td>SGDClassifier</td>\n",
       "      <td>0.731034</td>\n",
       "      <td>0.750562</td>\n",
       "      <td>0.000308</td>\n",
       "      <td>0.000040</td>\n",
       "      <td>0.000029</td>\n",
       "    </tr>\n",
       "    <tr>\n",
       "      <th>10</th>\n",
       "      <td>RandomForestClassifier</td>\n",
       "      <td>0.711111</td>\n",
       "      <td>0.995098</td>\n",
       "      <td>0.018394</td>\n",
       "      <td>0.003372</td>\n",
       "      <td>0.003785</td>\n",
       "    </tr>\n",
       "  </tbody>\n",
       "</table>\n",
       "</div>"
      ],
      "text/plain": [
       "                    Classifier   f1-test  f1-train  train-time  \\\n",
       "0            BaggingClassifier  0.784314  0.817814    0.012186   \n",
       "1           LogisticRegression  0.784314  0.804928    0.000407   \n",
       "2                          SVC  0.782051  0.809524    0.002766   \n",
       "3                  BernoulliNB  0.776316  0.807377    0.000525   \n",
       "4                   GaussianNB  0.743243  0.792208    0.000411   \n",
       "5       DecisionTreeClassifier  0.737705  1.000000    0.001360   \n",
       "6         KNeighborsClassifier  0.736111  0.824834    0.000244   \n",
       "7           AdaBoostClassifier  0.735294  0.886311    0.071821   \n",
       "8   GradientBoostingClassifier  0.731034  0.973747    0.035886   \n",
       "9                SGDClassifier  0.731034  0.750562    0.000308   \n",
       "10      RandomForestClassifier  0.711111  0.995098    0.018394   \n",
       "\n",
       "    predict-train-time  predict-test-time  \n",
       "0             0.010437           0.008026  \n",
       "1             0.000042           0.000030  \n",
       "2             0.001494           0.000910  \n",
       "3             0.000100           0.000081  \n",
       "4             0.000113           0.000082  \n",
       "5             0.000060           0.000039  \n",
       "6             0.009475           0.000995  \n",
       "7             0.003833           0.002790  \n",
       "8             0.000339           0.000154  \n",
       "9             0.000040           0.000029  \n",
       "10            0.003372           0.003785  "
      ]
     },
     "execution_count": 15,
     "metadata": {},
     "output_type": "execute_result"
    }
   ],
   "source": [
    "df_pca = train_predict_all(classifiers, X_pca_train, y_train, X_pca_test, y_test)\n",
    "df_pca"
   ]
  },
  {
   "cell_type": "code",
   "execution_count": 16,
   "metadata": {
    "collapsed": false
   },
   "outputs": [],
   "source": [
    "# TODO: Initialize the three models with sklearn default parameters\n",
    "\n",
    "models = [\n",
    "    {\n",
    "        'clf':SVC,\n",
    "        'param':{'random_state':RANDOM_STATE}\n",
    "    },{\n",
    "        'clf':BaggingClassifier,\n",
    "        'param':{'base_estimator':KNeighborsClassifier(),'max_samples':0.5, 'max_features':0.5,'random_state':RANDOM_STATE }\n",
    "    },{\n",
    "        'clf':KNeighborsClassifier,\n",
    "        'param':{}\n",
    "    }\n",
    "] \n",
    "\n",
    "# TODO: Set up the training set sizes\n",
    "X_train_100 = X_train[:100]\n",
    "y_train_100 = y_train[:100]\n",
    "\n",
    "X_train_200 = X_train[:200]\n",
    "y_train_200 = y_train[:200]\n",
    "\n",
    "X_train_300 = X_train\n",
    "y_train_300 = y_train\n",
    "\n",
    "# TODO: Execute the 'train_predict' function for each classifier and each training set size\n",
    "# train_predict(clf, X_train, y_train, X_test, y_test)"
   ]
  },
  {
   "cell_type": "code",
   "execution_count": 17,
   "metadata": {
    "collapsed": false
   },
   "outputs": [
    {
     "data": {
      "text/html": [
       "<div>\n",
       "<table border=\"1\" class=\"dataframe\">\n",
       "  <thead>\n",
       "    <tr style=\"text-align: right;\">\n",
       "      <th></th>\n",
       "      <th>Classifier</th>\n",
       "      <th>f1-test</th>\n",
       "      <th>f1-train</th>\n",
       "      <th>train-time</th>\n",
       "      <th>predict-train-time</th>\n",
       "      <th>predict-test-time</th>\n",
       "    </tr>\n",
       "  </thead>\n",
       "  <tbody>\n",
       "    <tr>\n",
       "      <th>0</th>\n",
       "      <td>SVC</td>\n",
       "      <td>0.782051</td>\n",
       "      <td>0.850575</td>\n",
       "      <td>0.001526</td>\n",
       "      <td>0.000684</td>\n",
       "      <td>0.000572</td>\n",
       "    </tr>\n",
       "    <tr>\n",
       "      <th>1</th>\n",
       "      <td>BaggingClassifier</td>\n",
       "      <td>0.766234</td>\n",
       "      <td>0.855491</td>\n",
       "      <td>0.008944</td>\n",
       "      <td>0.009931</td>\n",
       "      <td>0.008398</td>\n",
       "    </tr>\n",
       "    <tr>\n",
       "      <th>2</th>\n",
       "      <td>KNeighborsClassifier</td>\n",
       "      <td>0.731034</td>\n",
       "      <td>0.883436</td>\n",
       "      <td>0.000282</td>\n",
       "      <td>0.001278</td>\n",
       "      <td>0.001232</td>\n",
       "    </tr>\n",
       "  </tbody>\n",
       "</table>\n",
       "</div>"
      ],
      "text/plain": [
       "             Classifier   f1-test  f1-train  train-time  predict-train-time  \\\n",
       "0                   SVC  0.782051  0.850575    0.001526            0.000684   \n",
       "1     BaggingClassifier  0.766234  0.855491    0.008944            0.009931   \n",
       "2  KNeighborsClassifier  0.731034  0.883436    0.000282            0.001278   \n",
       "\n",
       "   predict-test-time  \n",
       "0           0.000572  \n",
       "1           0.008398  \n",
       "2           0.001232  "
      ]
     },
     "execution_count": 17,
     "metadata": {},
     "output_type": "execute_result"
    }
   ],
   "source": [
    "df_100 = train_predict_all(models, X_train_100, y_train_100, X_test, y_test)\n",
    "df_100"
   ]
  },
  {
   "cell_type": "code",
   "execution_count": 18,
   "metadata": {
    "collapsed": false
   },
   "outputs": [
    {
     "data": {
      "text/html": [
       "<div>\n",
       "<table border=\"1\" class=\"dataframe\">\n",
       "  <thead>\n",
       "    <tr style=\"text-align: right;\">\n",
       "      <th></th>\n",
       "      <th>Classifier</th>\n",
       "      <th>f1-test</th>\n",
       "      <th>f1-train</th>\n",
       "      <th>train-time</th>\n",
       "      <th>predict-train-time</th>\n",
       "      <th>predict-test-time</th>\n",
       "    </tr>\n",
       "  </thead>\n",
       "  <tbody>\n",
       "    <tr>\n",
       "      <th>0</th>\n",
       "      <td>SVC</td>\n",
       "      <td>0.782051</td>\n",
       "      <td>0.809524</td>\n",
       "      <td>0.004110</td>\n",
       "      <td>0.002201</td>\n",
       "      <td>0.001513</td>\n",
       "    </tr>\n",
       "    <tr>\n",
       "      <th>1</th>\n",
       "      <td>BaggingClassifier</td>\n",
       "      <td>0.751678</td>\n",
       "      <td>0.813456</td>\n",
       "      <td>0.009035</td>\n",
       "      <td>0.014365</td>\n",
       "      <td>0.010349</td>\n",
       "    </tr>\n",
       "    <tr>\n",
       "      <th>2</th>\n",
       "      <td>KNeighborsClassifier</td>\n",
       "      <td>0.724638</td>\n",
       "      <td>0.832215</td>\n",
       "      <td>0.000376</td>\n",
       "      <td>0.003955</td>\n",
       "      <td>0.002321</td>\n",
       "    </tr>\n",
       "  </tbody>\n",
       "</table>\n",
       "</div>"
      ],
      "text/plain": [
       "             Classifier   f1-test  f1-train  train-time  predict-train-time  \\\n",
       "0                   SVC  0.782051  0.809524    0.004110            0.002201   \n",
       "1     BaggingClassifier  0.751678  0.813456    0.009035            0.014365   \n",
       "2  KNeighborsClassifier  0.724638  0.832215    0.000376            0.003955   \n",
       "\n",
       "   predict-test-time  \n",
       "0           0.001513  \n",
       "1           0.010349  \n",
       "2           0.002321  "
      ]
     },
     "execution_count": 18,
     "metadata": {},
     "output_type": "execute_result"
    }
   ],
   "source": [
    "df_200 = train_predict_all(models, X_train_200, y_train_200, X_test, y_test)\n",
    "df_200"
   ]
  },
  {
   "cell_type": "code",
   "execution_count": 19,
   "metadata": {
    "collapsed": false
   },
   "outputs": [
    {
     "data": {
      "text/html": [
       "<div>\n",
       "<table border=\"1\" class=\"dataframe\">\n",
       "  <thead>\n",
       "    <tr style=\"text-align: right;\">\n",
       "      <th></th>\n",
       "      <th>Classifier</th>\n",
       "      <th>f1-test</th>\n",
       "      <th>f1-train</th>\n",
       "      <th>train-time</th>\n",
       "      <th>predict-train-time</th>\n",
       "      <th>predict-test-time</th>\n",
       "    </tr>\n",
       "  </thead>\n",
       "  <tbody>\n",
       "    <tr>\n",
       "      <th>0</th>\n",
       "      <td>SVC</td>\n",
       "      <td>0.782051</td>\n",
       "      <td>0.809524</td>\n",
       "      <td>0.007361</td>\n",
       "      <td>0.004987</td>\n",
       "      <td>0.001827</td>\n",
       "    </tr>\n",
       "    <tr>\n",
       "      <th>1</th>\n",
       "      <td>BaggingClassifier</td>\n",
       "      <td>0.760000</td>\n",
       "      <td>0.821355</td>\n",
       "      <td>0.010022</td>\n",
       "      <td>0.026244</td>\n",
       "      <td>0.012060</td>\n",
       "    </tr>\n",
       "    <tr>\n",
       "      <th>2</th>\n",
       "      <td>KNeighborsClassifier</td>\n",
       "      <td>0.741259</td>\n",
       "      <td>0.821429</td>\n",
       "      <td>0.000868</td>\n",
       "      <td>0.008521</td>\n",
       "      <td>0.003250</td>\n",
       "    </tr>\n",
       "  </tbody>\n",
       "</table>\n",
       "</div>"
      ],
      "text/plain": [
       "             Classifier   f1-test  f1-train  train-time  predict-train-time  \\\n",
       "0                   SVC  0.782051  0.809524    0.007361            0.004987   \n",
       "1     BaggingClassifier  0.760000  0.821355    0.010022            0.026244   \n",
       "2  KNeighborsClassifier  0.741259  0.821429    0.000868            0.008521   \n",
       "\n",
       "   predict-test-time  \n",
       "0           0.001827  \n",
       "1           0.012060  \n",
       "2           0.003250  "
      ]
     },
     "execution_count": 19,
     "metadata": {},
     "output_type": "execute_result"
    }
   ],
   "source": [
    "df_300 = train_predict_all(models, X_train_300, y_train_300, X_test, y_test)\n",
    "df_300"
   ]
  },
  {
   "cell_type": "markdown",
   "metadata": {},
   "source": [
    "### Tabular Results\n",
    "Edit the cell below to see how a table can be designed in [Markdown](https://github.com/adam-p/markdown-here/wiki/Markdown-Cheatsheet#tables). You can record your results from above in the tables provided."
   ]
  },
  {
   "cell_type": "markdown",
   "metadata": {},
   "source": [
    "** Classifer 1 - SVC**  \n",
    "\n",
    "| Training Set Size | Training Time | Prediction Time (test) | F1 Score (train) | F1 Score (test) |\n",
    "| :---------------: | :---------------------: | :--------------------: | :--------------: | :-------------: |\n",
    "| 100               |  0.001124               | 0.000637               |   0.850575       |   0.782051      |\n",
    "| 200               |  0.004117 \t          | 0.001263               |   0.809524       |   0.782051      |\n",
    "| 300               |  0.007259               | 0.001696               |   0.809524 \t  |   0.782051      |\n",
    "\n",
    "** Classifer 2 - Bagging**  \n",
    "\n",
    "| Training Set Size | Training Time | Prediction Time (test) | F1 Score (train) | F1 Score (test) |\n",
    "| :---------------: | :---------------------: | :--------------------: | :--------------: | :-------------: |\n",
    "| 100               |  0.000289 \t          |   0.001374             |   0.855491       |   0.766234      |\n",
    "| 200               |  0.010534               |   0.009759             |   0.813456       |   0.751678      |\n",
    "| 300               |  0.009705               |   0.012190             |   0.821355       |   0.760000      |\n",
    "\n",
    "** Classifer 3 - kNN**  \n",
    "\n",
    "| Training Set Size | Training Time | Prediction Time (test) | F1 Score (train) | F1 Score (test) |\n",
    "| :---------------: | :---------------------: | :--------------------: | :--------------: | :-------------: |\n",
    "| 100               |   0.000289              |   0.001374             |    0.883436      |   0.731034      |\n",
    "| 200               |   0.000366              |   0.002147             |    0.832215      |   0.724638      |\n",
    "| 300               |   0.000476 \t          |   0.003182             |    0.821429 \t  |   0.741259      |"
   ]
  },
  {
   "cell_type": "markdown",
   "metadata": {},
   "source": [
    "## Choosing the Best Model\n",
    "In this final section, you will choose from the three supervised learning models the *best* model to use on the student data. You will then perform a grid search optimization for the model over the entire training set (`X_train` and `y_train`) by tuning at least one parameter to improve upon the untuned model's F<sub>1</sub> score. "
   ]
  },
  {
   "cell_type": "markdown",
   "metadata": {},
   "source": [
    "### Question 3 - Choosing the Best Model\n",
    "*Based on the experiments you performed earlier, in one to two paragraphs, explain to the board of supervisors what single model you chose as the best model. Which model is generally the most appropriate based on the available data, limited resources, cost, and performance?*"
   ]
  },
  {
   "cell_type": "markdown",
   "metadata": {},
   "source": [
    "**Answer: **\n",
    " Considering the above results I choose SVC for the following reasons:\n",
    " - achieved the highest F1 score\n",
    " - need less data to train then the other models (F1-score for the test data is the same for 100,200, and 300 point training data\n",
    " - the traning time and prediction time si the second best after kNN"
   ]
  },
  {
   "cell_type": "markdown",
   "metadata": {},
   "source": [
    "### Question 4 - Model in Layman's Terms\n",
    "*In one to two paragraphs, explain to the board of directors in layman's terms how the final model chosen is supposed to work. Be sure that you are describing the major qualities of the model, such as how the model is trained and how the model makes a prediction. Avoid using advanced mathematical or technical jargon, such as describing equations or discussing the algorithm implementation.*"
   ]
  },
  {
   "cell_type": "markdown",
   "metadata": {},
   "source": [
    "**Answer: **\n",
    "\n",
    "SVM is about finding a decision boundary that separates two classes (eg. graduated -green vs. not graduated-red)  as shown on the illustration below\n",
    "![schematic](http://66.media.tumblr.com/ff709fe1c77091952fb3e3e6af91e302/tumblr_inline_o9aa8dYRkB1u37g00_540.png)\n",
    "Support vectors are the data points nearest to the hyperplane and are considered the critical elements of a data set.\n",
    "The problem is that usually the data is not linearly separable, meaning that we cannot draw a simple line to separate the classes. There is the so called kernel-trick to the rescue. Basically  represent our data in a higher dimension that will allow to \"lift\" our data and ffind a hyperplane that will separate the classes as shown in the figure below\n",
    "![kernel-trick](http://66.media.tumblr.com/9bffea56372d28d2a30f80557451e824/tumblr_inline_o9aabehtqP1u37g00_540.png)\n",
    "\n",
    "In order to find this boundary the model is trained with data that was properly preporecessed and we used a kernel-trick to render the data linearly separable. Furthermore, the model's parameters were tuned to produce the best decision boundary that will allow more accurate predictions. Once the model is trained and we are satisfaied with its performance, it can be used to predict if the a student is likely to gaduate or not based on the collected data. \n",
    "\n",
    "[refrence](http://www.kdnuggets.com/2016/07/support-vector-machines-simple-explanation.html)"
   ]
  },
  {
   "cell_type": "markdown",
   "metadata": {},
   "source": [
    "### Implementation: Model Tuning\n",
    "Fine tune the chosen model. Use grid search (`GridSearchCV`) with at least one important parameter tuned with at least 3 different values. You will need to use the entire training set for this. In the code cell below, you will need to implement the following:\n",
    "- Import [`sklearn.grid_search.GridSearchCV`](http://scikit-learn.org/0.17/modules/generated/sklearn.grid_search.GridSearchCV.html) and [`sklearn.metrics.make_scorer`](http://scikit-learn.org/stable/modules/generated/sklearn.metrics.make_scorer.html).\n",
    "- Create a dictionary of parameters you wish to tune for the chosen model.\n",
    " - Example: `parameters = {'parameter' : [list of values]}`.\n",
    "- Initialize the classifier you've chosen and store it in `clf`.\n",
    "- Create the F<sub>1</sub> scoring function using `make_scorer` and store it in `f1_scorer`.\n",
    " - Set the `pos_label` parameter to the correct value!\n",
    "- Perform grid search on the classifier `clf` using `f1_scorer` as the scoring method, and store it in `grid_obj`.\n",
    "- Fit the grid search object to the training data (`X_train`, `y_train`), and store it in `grid_obj`."
   ]
  },
  {
   "cell_type": "code",
   "execution_count": 20,
   "metadata": {
    "collapsed": false,
    "scrolled": true
   },
   "outputs": [],
   "source": [
    "# TODO: Import 'GridSearchCV' and 'make_scorer'\n",
    "from sklearn.model_selection import GridSearchCV\n",
    "#(estimator, param_grid, scoring=None, fit_params=None, n_jobs=1, iid=True, refit=True, cv=None, verbose=0, \n",
    "#pre_dispatch='2*n_jobs', error_score='raise')\n",
    "from sklearn.model_selection import train_test_split\n",
    "from sklearn.preprocessing import normalize\n",
    "from sklearn.metrics import make_scorer\n",
    "\n",
    "# TODO: Create the parameters list you wish to tune\n",
    "#(C=1.0, kernel='rbf', degree=3, gamma='auto', coef0=0.0, shrinking=True, probability=False, tol=0.001, \n",
    "#cache_size=200, class_weight=None, verbose=False, max_iter=-1, decision_function_shape=None, random_state=None)\n",
    "\n",
    "def imbalanced(stratify, X_train, X_test, y_train, y_test):\n",
    "    if stratify:\n",
    "        X_train, X_test, y_train, y_test = train_test_split(X_all, y_all,test_size=0.24, stratify=y_all,random_state=RANDOM_STATE)\n",
    " \n",
    "    X_train = normalize(X_train)\n",
    "    X_test = normalize(X_test)\n",
    "\n",
    "    C_range = np.logspace(-3, 3, 13)\n",
    "    gamma_range = np.logspace(-4, 2, 13)\n",
    "    kernel =('linear','rbf','sigmoid')\n",
    "    parameters = dict(gamma=gamma_range, C=C_range, kernel=kernel)\n",
    "\n",
    "    # TODO: Initialize the classifier\n",
    "    clf = SVC(random_state=RANDOM_STATE)\n",
    "\n",
    "    # TODO: Make an f1 scoring function using 'make_scorer' \n",
    "    f1_scorer = make_scorer(f1_score)\n",
    "\n",
    "    # TODO: Perform grid search on the classifier using the f1_scorer as the scoring method\n",
    "    grid_obj = GridSearchCV(clf, parameters, cv=5, scoring=f1_scorer, verbose=1, n_jobs=8)\n",
    "\n",
    "    # TODO: Fit the grid search object to the training data and find the optimal parameters\n",
    "    grid_obj.fit(X_train,y_train)\n",
    "\n",
    "    # Get the estimator\n",
    "    clf = grid_obj.best_estimator_\n",
    "\n",
    "    # Report the final F1 score for training and testing after parameter tuning\n",
    "    print \"Tuned model has a training F1 score of {:.4f}.\".format(predict_labels(clf, X_train, y_train)[0])\n",
    "    print \"Tuned model has a testing F1 score of {:.4f}.\".format(predict_labels(clf, X_test, y_test)[0])\n",
    "    print '\\nBest model\\n',clf"
   ]
  },
  {
   "cell_type": "markdown",
   "metadata": {},
   "source": [
    "### Model optimization without stratified sampling"
   ]
  },
  {
   "cell_type": "code",
   "execution_count": 21,
   "metadata": {
    "collapsed": false
   },
   "outputs": [
    {
     "name": "stdout",
     "output_type": "stream",
     "text": [
      "Fitting 5 folds for each of 507 candidates, totalling 2535 fits\n"
     ]
    },
    {
     "name": "stderr",
     "output_type": "stream",
     "text": [
      "[Parallel(n_jobs=8)]: Done 412 tasks      | elapsed:    2.5s\n"
     ]
    },
    {
     "name": "stdout",
     "output_type": "stream",
     "text": [
      "Tuned model has a training F1 score of 0.8040.\n",
      "Tuned model has a testing F1 score of 0.7821.\n",
      "\n",
      "Best model\n",
      "SVC(C=0.31622776601683794, cache_size=200, class_weight=None, coef0=0.0,\n",
      "  decision_function_shape=None, degree=3, gamma=100.0, kernel='sigmoid',\n",
      "  max_iter=-1, probability=False, random_state=63, shrinking=True,\n",
      "  tol=0.001, verbose=False)\n"
     ]
    },
    {
     "name": "stderr",
     "output_type": "stream",
     "text": [
      "[Parallel(n_jobs=8)]: Done 2535 out of 2535 | elapsed:   24.9s finished\n"
     ]
    }
   ],
   "source": [
    "imbalanced(False, X_train, X_test, y_train, y_test)"
   ]
  },
  {
   "cell_type": "markdown",
   "metadata": {},
   "source": [
    "### Model optimization with stratified sampling"
   ]
  },
  {
   "cell_type": "code",
   "execution_count": 22,
   "metadata": {
    "collapsed": false
   },
   "outputs": [
    {
     "name": "stdout",
     "output_type": "stream",
     "text": [
      "Fitting 5 folds for each of 507 candidates, totalling 2535 fits\n"
     ]
    },
    {
     "name": "stderr",
     "output_type": "stream",
     "text": [
      "[Parallel(n_jobs=8)]: Done 268 tasks      | elapsed:    1.8s\n",
      "[Parallel(n_jobs=8)]: Done 2354 tasks      | elapsed:   16.7s\n"
     ]
    },
    {
     "name": "stdout",
     "output_type": "stream",
     "text": [
      "Tuned model has a training F1 score of 0.7856.\n",
      "Tuned model has a testing F1 score of 0.7682.\n",
      "\n",
      "Best model\n",
      "SVC(C=1.0, cache_size=200, class_weight=None, coef0=0.0,\n",
      "  decision_function_shape=None, degree=3, gamma=31.622776601683793,\n",
      "  kernel='sigmoid', max_iter=-1, probability=False, random_state=63,\n",
      "  shrinking=True, tol=0.001, verbose=False)\n"
     ]
    },
    {
     "name": "stderr",
     "output_type": "stream",
     "text": [
      "[Parallel(n_jobs=8)]: Done 2535 out of 2535 | elapsed:   25.0s finished\n"
     ]
    }
   ],
   "source": [
    "imbalanced(True, X_train, X_test, y_train, y_test)"
   ]
  },
  {
   "cell_type": "markdown",
   "metadata": {},
   "source": [
    "### Question 5 - Final F<sub>1</sub> Score\n",
    "*What is the final model's F<sub>1</sub> score for training and testing? How does that score compare to the untuned model?*"
   ]
  },
  {
   "cell_type": "markdown",
   "metadata": {},
   "source": [
    "**Answer: **\n",
    "- Not considering the data imbalance:\n",
    "the final F<sub>1</sub> is 0.7821 that is equal to the untuned model. It seems that for this data set the optimal hyperparameters are the default ones\n",
    "\n",
    "\n",
    "- Considering the data imbalance:\n",
    "the final F<sub>1</sub> is 0.7682 that is lower than the case when we do not consider the data imbalance, but this is probably closer the real performance of the model \n",
    "\n",
    "\n",
    "- However, if I consider the fact the many of the features are correlated and using PCA the winner are the Bagging and Logistic classifier "
   ]
  },
  {
   "cell_type": "markdown",
   "metadata": {},
   "source": [
    "> **Note**: Once you have completed all of the code implementations and successfully answered each question above, you may finalize your work by exporting the iPython Notebook as an HTML document. You can do this by using the menu above and navigating to  \n",
    "**File -> Download as -> HTML (.html)**. Include the finished document along with this notebook as your submission."
   ]
  }
 ],
 "metadata": {
  "anaconda-cloud": {},
  "kernelspec": {
   "display_name": "Python [conda env:py27]",
   "language": "python",
   "name": "conda-env-py27-py"
  },
  "language_info": {
   "codemirror_mode": {
    "name": "ipython",
    "version": 2
   },
   "file_extension": ".py",
   "mimetype": "text/x-python",
   "name": "python",
   "nbconvert_exporter": "python",
   "pygments_lexer": "ipython2",
   "version": "2.7.12"
  }
 },
 "nbformat": 4,
 "nbformat_minor": 0
}
